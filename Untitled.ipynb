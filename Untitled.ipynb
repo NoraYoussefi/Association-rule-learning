{
 "cells": [
  {
   "cell_type": "markdown",
   "id": "e49a7ec7",
   "metadata": {},
   "source": [
    "## algorithme apriori\n"
   ]
  },
  {
   "cell_type": "code",
   "execution_count": 2,
   "id": "ec8af541",
   "metadata": {},
   "outputs": [],
   "source": [
    "import pandas as pd\n",
    "import numpy as np"
   ]
  },
  {
   "cell_type": "code",
   "execution_count": 6,
   "id": "e394f25a",
   "metadata": {},
   "outputs": [],
   "source": [
    "df=pd.read_table(r'market_basket.txt', delimiter = '\\t')"
   ]
  },
  {
   "cell_type": "code",
   "execution_count": 7,
   "id": "95c340ad",
   "metadata": {},
   "outputs": [
    {
     "data": {
      "text/html": [
       "<div>\n",
       "<style scoped>\n",
       "    .dataframe tbody tr th:only-of-type {\n",
       "        vertical-align: middle;\n",
       "    }\n",
       "\n",
       "    .dataframe tbody tr th {\n",
       "        vertical-align: top;\n",
       "    }\n",
       "\n",
       "    .dataframe thead th {\n",
       "        text-align: right;\n",
       "    }\n",
       "</style>\n",
       "<table border=\"1\" class=\"dataframe\">\n",
       "  <thead>\n",
       "    <tr style=\"text-align: right;\">\n",
       "      <th></th>\n",
       "      <th>ID</th>\n",
       "      <th>Product</th>\n",
       "    </tr>\n",
       "  </thead>\n",
       "  <tbody>\n",
       "    <tr>\n",
       "      <th>0</th>\n",
       "      <td>1</td>\n",
       "      <td>Peaches</td>\n",
       "    </tr>\n",
       "    <tr>\n",
       "      <th>1</th>\n",
       "      <td>2</td>\n",
       "      <td>Vegetable_Oil</td>\n",
       "    </tr>\n",
       "    <tr>\n",
       "      <th>2</th>\n",
       "      <td>2</td>\n",
       "      <td>Frozen_Corn</td>\n",
       "    </tr>\n",
       "    <tr>\n",
       "      <th>3</th>\n",
       "      <td>3</td>\n",
       "      <td>Plums</td>\n",
       "    </tr>\n",
       "    <tr>\n",
       "      <th>4</th>\n",
       "      <td>4</td>\n",
       "      <td>Pancake_Mix</td>\n",
       "    </tr>\n",
       "  </tbody>\n",
       "</table>\n",
       "</div>"
      ],
      "text/plain": [
       "   ID        Product\n",
       "0   1        Peaches\n",
       "1   2  Vegetable_Oil\n",
       "2   2    Frozen_Corn\n",
       "3   3          Plums\n",
       "4   4    Pancake_Mix"
      ]
     },
     "execution_count": 7,
     "metadata": {},
     "output_type": "execute_result"
    }
   ],
   "source": [
    "df.head()"
   ]
  },
  {
   "cell_type": "code",
   "execution_count": 9,
   "id": "d117b29e",
   "metadata": {},
   "outputs": [
    {
     "data": {
      "text/html": [
       "<div>\n",
       "<style scoped>\n",
       "    .dataframe tbody tr th:only-of-type {\n",
       "        vertical-align: middle;\n",
       "    }\n",
       "\n",
       "    .dataframe tbody tr th {\n",
       "        vertical-align: top;\n",
       "    }\n",
       "\n",
       "    .dataframe thead th {\n",
       "        text-align: right;\n",
       "    }\n",
       "</style>\n",
       "<table border=\"1\" class=\"dataframe\">\n",
       "  <thead>\n",
       "    <tr style=\"text-align: right;\">\n",
       "      <th></th>\n",
       "      <th>ID</th>\n",
       "    </tr>\n",
       "  </thead>\n",
       "  <tbody>\n",
       "    <tr>\n",
       "      <th>count</th>\n",
       "      <td>12935.000000</td>\n",
       "    </tr>\n",
       "    <tr>\n",
       "      <th>mean</th>\n",
       "      <td>645.854349</td>\n",
       "    </tr>\n",
       "    <tr>\n",
       "      <th>std</th>\n",
       "      <td>380.355489</td>\n",
       "    </tr>\n",
       "    <tr>\n",
       "      <th>min</th>\n",
       "      <td>1.000000</td>\n",
       "    </tr>\n",
       "    <tr>\n",
       "      <th>25%</th>\n",
       "      <td>287.000000</td>\n",
       "    </tr>\n",
       "    <tr>\n",
       "      <th>50%</th>\n",
       "      <td>654.000000</td>\n",
       "    </tr>\n",
       "    <tr>\n",
       "      <th>75%</th>\n",
       "      <td>961.000000</td>\n",
       "    </tr>\n",
       "    <tr>\n",
       "      <th>max</th>\n",
       "      <td>1361.000000</td>\n",
       "    </tr>\n",
       "  </tbody>\n",
       "</table>\n",
       "</div>"
      ],
      "text/plain": [
       "                 ID\n",
       "count  12935.000000\n",
       "mean     645.854349\n",
       "std      380.355489\n",
       "min        1.000000\n",
       "25%      287.000000\n",
       "50%      654.000000\n",
       "75%      961.000000\n",
       "max     1361.000000"
      ]
     },
     "execution_count": 9,
     "metadata": {},
     "output_type": "execute_result"
    }
   ],
   "source": [
    "df.describe()"
   ]
  },
  {
   "cell_type": "code",
   "execution_count": 10,
   "id": "0d551ce1",
   "metadata": {},
   "outputs": [
    {
     "name": "stdout",
     "output_type": "stream",
     "text": [
      "<class 'pandas.core.frame.DataFrame'>\n",
      "RangeIndex: 12935 entries, 0 to 12934\n",
      "Data columns (total 2 columns):\n",
      " #   Column   Non-Null Count  Dtype \n",
      "---  ------   --------------  ----- \n",
      " 0   ID       12935 non-null  int64 \n",
      " 1   Product  12935 non-null  object\n",
      "dtypes: int64(1), object(1)\n",
      "memory usage: 202.2+ KB\n"
     ]
    }
   ],
   "source": [
    "df.info()"
   ]
  },
  {
   "cell_type": "code",
   "execution_count": 14,
   "id": "85f47459",
   "metadata": {},
   "outputs": [
    {
     "name": "stdout",
     "output_type": "stream",
     "text": [
      "Product  100_Watt_Lightbulb  2pct_Milk  40_Watt_Lightbulb  60_Watt_Lightbulb  \\\n",
      "ID                                                                             \n",
      "1                         0          0                  0                  0   \n",
      "2                         0          0                  0                  0   \n",
      "3                         0          0                  0                  0   \n",
      "4                         0          0                  0                  0   \n",
      "5                         0          0                  0                  0   \n",
      "6                         0          0                  0                  0   \n",
      "7                         0          1                  0                  0   \n",
      "8                         0          0                  0                  0   \n",
      "9                         0          0                  0                  0   \n",
      "10                        0          0                  0                  0   \n",
      "\n",
      "Product  75_Watt_Lightbulb  \n",
      "ID                          \n",
      "1                        0  \n",
      "2                        0  \n",
      "3                        0  \n",
      "4                        0  \n",
      "5                        0  \n",
      "6                        0  \n",
      "7                        0  \n",
      "8                        0  \n",
      "9                        0  \n",
      "10                       0  \n"
     ]
    }
   ],
   "source": [
    "#tableau croisé 0/1\n",
    "TC = pd.crosstab(df.ID,df.Product)\n",
    "print(TC.iloc[:10,:5])"
   ]
  },
  {
   "cell_type": "code",
   "execution_count": 16,
   "id": "8243ed69",
   "metadata": {},
   "outputs": [
    {
     "data": {
      "text/plain": [
       "(1360, 303)"
      ]
     },
     "execution_count": 16,
     "metadata": {},
     "output_type": "execute_result"
    }
   ],
   "source": [
    "TC.shape"
   ]
  },
  {
   "cell_type": "code",
   "execution_count": 18,
   "id": "f1ff24bb",
   "metadata": {},
   "outputs": [
    {
     "data": {
      "text/plain": [
       "Index(['100_Watt_Lightbulb', '2pct_Milk', '40_Watt_Lightbulb',\n",
       "       '60_Watt_Lightbulb', '75_Watt_Lightbulb', '98pct_Fat_Free_Hamburger',\n",
       "       'AA_Cell_Batteries', 'Apple_Cinnamon_Waffles', 'Apple_Drink',\n",
       "       'Apple_Fruit_Roll',\n",
       "       ...\n",
       "       'White_Bread', 'White_Wine', 'White_Zinfandel_Wine', 'Whole_Corn',\n",
       "       'Whole_Green_Beans', 'Whole_Milk', 'Window_Cleaner', 'Wood_Polish',\n",
       "       'flav_Fruit_Bars', 'flav_Ice'],\n",
       "      dtype='object', name='Product', length=303)"
      ]
     },
     "execution_count": 18,
     "metadata": {},
     "output_type": "execute_result"
    }
   ],
   "source": [
    "TC.columns"
   ]
  },
  {
   "cell_type": "code",
   "execution_count": null,
   "id": "796f2c8e",
   "metadata": {},
   "outputs": [],
   "source": []
  }
 ],
 "metadata": {
  "kernelspec": {
   "display_name": "Python 3",
   "language": "python",
   "name": "python3"
  },
  "language_info": {
   "codemirror_mode": {
    "name": "ipython",
    "version": 3
   },
   "file_extension": ".py",
   "mimetype": "text/x-python",
   "name": "python",
   "nbconvert_exporter": "python",
   "pygments_lexer": "ipython3",
   "version": "3.8.8"
  }
 },
 "nbformat": 4,
 "nbformat_minor": 5
}
