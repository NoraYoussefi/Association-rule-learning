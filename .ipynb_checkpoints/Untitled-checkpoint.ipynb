{
 "cells": [
  {
   "cell_type": "markdown",
   "id": "1c39cd62",
   "metadata": {},
   "source": [
    "## L'algorithme apriori\n",
    "## Youssefi Nora\n"
   ]
  },
  {
   "cell_type": "code",
   "execution_count": 2,
   "id": "04998955",
   "metadata": {},
   "outputs": [],
   "source": [
    "import pandas as pd\n",
    "import numpy as np"
   ]
  },
  {
   "cell_type": "code",
   "execution_count": 6,
   "id": "cdcef132",
   "metadata": {},
   "outputs": [],
   "source": [
    "df=pd.read_table(r'market_basket.txt', delimiter = '\\t')"
   ]
  },
  {
   "cell_type": "code",
   "execution_count": 7,
   "id": "a2af9e7e",
   "metadata": {},
   "outputs": [
    {
     "data": {
      "text/html": [
       "<div>\n",
       "<style scoped>\n",
       "    .dataframe tbody tr th:only-of-type {\n",
       "        vertical-align: middle;\n",
       "    }\n",
       "\n",
       "    .dataframe tbody tr th {\n",
       "        vertical-align: top;\n",
       "    }\n",
       "\n",
       "    .dataframe thead th {\n",
       "        text-align: right;\n",
       "    }\n",
       "</style>\n",
       "<table border=\"1\" class=\"dataframe\">\n",
       "  <thead>\n",
       "    <tr style=\"text-align: right;\">\n",
       "      <th></th>\n",
       "      <th>ID</th>\n",
       "      <th>Product</th>\n",
       "    </tr>\n",
       "  </thead>\n",
       "  <tbody>\n",
       "    <tr>\n",
       "      <th>0</th>\n",
       "      <td>1</td>\n",
       "      <td>Peaches</td>\n",
       "    </tr>\n",
       "    <tr>\n",
       "      <th>1</th>\n",
       "      <td>2</td>\n",
       "      <td>Vegetable_Oil</td>\n",
       "    </tr>\n",
       "    <tr>\n",
       "      <th>2</th>\n",
       "      <td>2</td>\n",
       "      <td>Frozen_Corn</td>\n",
       "    </tr>\n",
       "    <tr>\n",
       "      <th>3</th>\n",
       "      <td>3</td>\n",
       "      <td>Plums</td>\n",
       "    </tr>\n",
       "    <tr>\n",
       "      <th>4</th>\n",
       "      <td>4</td>\n",
       "      <td>Pancake_Mix</td>\n",
       "    </tr>\n",
       "  </tbody>\n",
       "</table>\n",
       "</div>"
      ],
      "text/plain": [
       "   ID        Product\n",
       "0   1        Peaches\n",
       "1   2  Vegetable_Oil\n",
       "2   2    Frozen_Corn\n",
       "3   3          Plums\n",
       "4   4    Pancake_Mix"
      ]
     },
     "execution_count": 7,
     "metadata": {},
     "output_type": "execute_result"
    }
   ],
   "source": [
    "df.head()"
   ]
  },
  {
   "cell_type": "code",
   "execution_count": 9,
   "id": "89301672",
   "metadata": {},
   "outputs": [
    {
     "data": {
      "text/html": [
       "<div>\n",
       "<style scoped>\n",
       "    .dataframe tbody tr th:only-of-type {\n",
       "        vertical-align: middle;\n",
       "    }\n",
       "\n",
       "    .dataframe tbody tr th {\n",
       "        vertical-align: top;\n",
       "    }\n",
       "\n",
       "    .dataframe thead th {\n",
       "        text-align: right;\n",
       "    }\n",
       "</style>\n",
       "<table border=\"1\" class=\"dataframe\">\n",
       "  <thead>\n",
       "    <tr style=\"text-align: right;\">\n",
       "      <th></th>\n",
       "      <th>ID</th>\n",
       "    </tr>\n",
       "  </thead>\n",
       "  <tbody>\n",
       "    <tr>\n",
       "      <th>count</th>\n",
       "      <td>12935.000000</td>\n",
       "    </tr>\n",
       "    <tr>\n",
       "      <th>mean</th>\n",
       "      <td>645.854349</td>\n",
       "    </tr>\n",
       "    <tr>\n",
       "      <th>std</th>\n",
       "      <td>380.355489</td>\n",
       "    </tr>\n",
       "    <tr>\n",
       "      <th>min</th>\n",
       "      <td>1.000000</td>\n",
       "    </tr>\n",
       "    <tr>\n",
       "      <th>25%</th>\n",
       "      <td>287.000000</td>\n",
       "    </tr>\n",
       "    <tr>\n",
       "      <th>50%</th>\n",
       "      <td>654.000000</td>\n",
       "    </tr>\n",
       "    <tr>\n",
       "      <th>75%</th>\n",
       "      <td>961.000000</td>\n",
       "    </tr>\n",
       "    <tr>\n",
       "      <th>max</th>\n",
       "      <td>1361.000000</td>\n",
       "    </tr>\n",
       "  </tbody>\n",
       "</table>\n",
       "</div>"
      ],
      "text/plain": [
       "                 ID\n",
       "count  12935.000000\n",
       "mean     645.854349\n",
       "std      380.355489\n",
       "min        1.000000\n",
       "25%      287.000000\n",
       "50%      654.000000\n",
       "75%      961.000000\n",
       "max     1361.000000"
      ]
     },
     "execution_count": 9,
     "metadata": {},
     "output_type": "execute_result"
    }
   ],
   "source": [
    "df.describe()"
   ]
  },
  {
   "cell_type": "code",
   "execution_count": 10,
   "id": "4937d188",
   "metadata": {},
   "outputs": [
    {
     "name": "stdout",
     "output_type": "stream",
     "text": [
      "<class 'pandas.core.frame.DataFrame'>\n",
      "RangeIndex: 12935 entries, 0 to 12934\n",
      "Data columns (total 2 columns):\n",
      " #   Column   Non-Null Count  Dtype \n",
      "---  ------   --------------  ----- \n",
      " 0   ID       12935 non-null  int64 \n",
      " 1   Product  12935 non-null  object\n",
      "dtypes: int64(1), object(1)\n",
      "memory usage: 202.2+ KB\n"
     ]
    }
   ],
   "source": [
    "df.info()"
   ]
  },
  {
   "cell_type": "code",
   "execution_count": 14,
   "id": "25d588e1",
   "metadata": {},
   "outputs": [
    {
     "name": "stdout",
     "output_type": "stream",
     "text": [
      "Product  100_Watt_Lightbulb  2pct_Milk  40_Watt_Lightbulb  60_Watt_Lightbulb  \\\n",
      "ID                                                                             \n",
      "1                         0          0                  0                  0   \n",
      "2                         0          0                  0                  0   \n",
      "3                         0          0                  0                  0   \n",
      "4                         0          0                  0                  0   \n",
      "5                         0          0                  0                  0   \n",
      "6                         0          0                  0                  0   \n",
      "7                         0          1                  0                  0   \n",
      "8                         0          0                  0                  0   \n",
      "9                         0          0                  0                  0   \n",
      "10                        0          0                  0                  0   \n",
      "\n",
      "Product  75_Watt_Lightbulb  \n",
      "ID                          \n",
      "1                        0  \n",
      "2                        0  \n",
      "3                        0  \n",
      "4                        0  \n",
      "5                        0  \n",
      "6                        0  \n",
      "7                        0  \n",
      "8                        0  \n",
      "9                        0  \n",
      "10                       0  \n"
     ]
    }
   ],
   "source": [
    "#tableau croisé 0/1\n",
    "TC = pd.crosstab(df.ID,df.Product)\n",
    "print(TC.iloc[:10,:5])"
   ]
  },
  {
   "cell_type": "code",
   "execution_count": 16,
   "id": "7bb81f0a",
   "metadata": {},
   "outputs": [
    {
     "data": {
      "text/plain": [
       "(1360, 303)"
      ]
     },
     "execution_count": 16,
     "metadata": {},
     "output_type": "execute_result"
    }
   ],
   "source": [
    "TC.shape"
   ]
  },
  {
   "cell_type": "code",
   "execution_count": 18,
   "id": "2f4a09d6",
   "metadata": {},
   "outputs": [
    {
     "data": {
      "text/plain": [
       "Index(['100_Watt_Lightbulb', '2pct_Milk', '40_Watt_Lightbulb',\n",
       "       '60_Watt_Lightbulb', '75_Watt_Lightbulb', '98pct_Fat_Free_Hamburger',\n",
       "       'AA_Cell_Batteries', 'Apple_Cinnamon_Waffles', 'Apple_Drink',\n",
       "       'Apple_Fruit_Roll',\n",
       "       ...\n",
       "       'White_Bread', 'White_Wine', 'White_Zinfandel_Wine', 'Whole_Corn',\n",
       "       'Whole_Green_Beans', 'Whole_Milk', 'Window_Cleaner', 'Wood_Polish',\n",
       "       'flav_Fruit_Bars', 'flav_Ice'],\n",
       "      dtype='object', name='Product', length=303)"
      ]
     },
     "execution_count": 18,
     "metadata": {},
     "output_type": "execute_result"
    }
   ],
   "source": [
    "TC.columns"
   ]
  },
  {
   "cell_type": "markdown",
   "id": "073b372f",
   "metadata": {},
   "source": [
    " ## Extraction des itemsets fréquents"
   ]
  },
  {
   "cell_type": "code",
   "execution_count": 20,
   "id": "ca5a985b",
   "metadata": {},
   "outputs": [],
   "source": [
    "#importation de la fonction apriori\n",
    "from mlxtend.frequent_patterns import apriori\n",
    "#itemsets frequents\n",
    "freq_itemsets = apriori(TC,min_support=0.025,max_len=4,use_colnames=True)"
   ]
  },
  {
   "cell_type": "code",
   "execution_count": 21,
   "id": "59466cd3",
   "metadata": {},
   "outputs": [
    {
     "data": {
      "text/plain": [
       "pandas.core.frame.DataFrame"
      ]
     },
     "execution_count": 21,
     "metadata": {},
     "output_type": "execute_result"
    }
   ],
   "source": [
    "type(freq_itemsets)"
   ]
  },
  {
   "cell_type": "code",
   "execution_count": 22,
   "id": "7e07fa71",
   "metadata": {},
   "outputs": [
    {
     "data": {
      "text/plain": [
       "Index(['support', 'itemsets'], dtype='object')"
      ]
     },
     "execution_count": 22,
     "metadata": {},
     "output_type": "execute_result"
    }
   ],
   "source": [
    "freq_itemsets.columns"
   ]
  },
  {
   "cell_type": "code",
   "execution_count": 24,
   "id": "64ba16fb",
   "metadata": {},
   "outputs": [
    {
     "data": {
      "text/plain": [
       "(603, 2)"
      ]
     },
     "execution_count": 24,
     "metadata": {},
     "output_type": "execute_result"
    }
   ],
   "source": [
    "freq_itemsets.shape"
   ]
  },
  {
   "cell_type": "code",
   "execution_count": 26,
   "id": "26711ee2",
   "metadata": {},
   "outputs": [
    {
     "data": {
      "text/html": [
       "<div>\n",
       "<style scoped>\n",
       "    .dataframe tbody tr th:only-of-type {\n",
       "        vertical-align: middle;\n",
       "    }\n",
       "\n",
       "    .dataframe tbody tr th {\n",
       "        vertical-align: top;\n",
       "    }\n",
       "\n",
       "    .dataframe thead th {\n",
       "        text-align: right;\n",
       "    }\n",
       "</style>\n",
       "<table border=\"1\" class=\"dataframe\">\n",
       "  <thead>\n",
       "    <tr style=\"text-align: right;\">\n",
       "      <th></th>\n",
       "      <th>support</th>\n",
       "      <th>itemsets</th>\n",
       "    </tr>\n",
       "  </thead>\n",
       "  <tbody>\n",
       "    <tr>\n",
       "      <th>0</th>\n",
       "      <td>0.030147</td>\n",
       "      <td>(100_Watt_Lightbulb)</td>\n",
       "    </tr>\n",
       "    <tr>\n",
       "      <th>1</th>\n",
       "      <td>0.109559</td>\n",
       "      <td>(2pct_Milk)</td>\n",
       "    </tr>\n",
       "    <tr>\n",
       "      <th>2</th>\n",
       "      <td>0.037500</td>\n",
       "      <td>(60_Watt_Lightbulb)</td>\n",
       "    </tr>\n",
       "    <tr>\n",
       "      <th>3</th>\n",
       "      <td>0.031618</td>\n",
       "      <td>(75_Watt_Lightbulb)</td>\n",
       "    </tr>\n",
       "    <tr>\n",
       "      <th>4</th>\n",
       "      <td>0.093382</td>\n",
       "      <td>(98pct_Fat_Free_Hamburger)</td>\n",
       "    </tr>\n",
       "  </tbody>\n",
       "</table>\n",
       "</div>"
      ],
      "text/plain": [
       "    support                    itemsets\n",
       "0  0.030147        (100_Watt_Lightbulb)\n",
       "1  0.109559                 (2pct_Milk)\n",
       "2  0.037500         (60_Watt_Lightbulb)\n",
       "3  0.031618         (75_Watt_Lightbulb)\n",
       "4  0.093382  (98pct_Fat_Free_Hamburger)"
      ]
     },
     "execution_count": 26,
     "metadata": {},
     "output_type": "execute_result"
    }
   ],
   "source": [
    "freq_itemsets.head()"
   ]
  },
  {
   "cell_type": "code",
   "execution_count": 27,
   "id": "72c163f5",
   "metadata": {},
   "outputs": [],
   "source": [
    "#fonction de test d'inclusion\n",
    "def is_inclus(x,items):\n",
    " return items.issubset(x)"
   ]
  },
  {
   "cell_type": "code",
   "execution_count": 36,
   "id": "c1ababd9",
   "metadata": {},
   "outputs": [
    {
     "name": "stdout",
     "output_type": "stream",
     "text": [
      "(array([ 13, 208, 249, 272, 273, 274, 275, 276, 277, 278, 279, 280, 281,\n",
      "       282, 283, 284, 285, 286, 509, 510, 511, 552, 553, 554, 555, 556],\n",
      "      dtype=int64),)\n",
      "(array([ 50, 214, 251, 272, 313, 314, 315, 316, 317, 318, 319, 320, 321,\n",
      "       322, 323, 324, 325, 326, 327, 328, 329, 513, 514, 515, 516, 557,\n",
      "       558, 559, 560, 561], dtype=int64),)\n"
     ]
    }
   ],
   "source": [
    "#recherche des index des itemsets correspondant à une condition\n",
    "\n",
    "id = np.where(freq_itemsets.itemsets.apply(is_inclus,items={'Aspirin'}))\n",
    "id2 = np.where(freq_itemsets.itemsets.apply(is_inclus,items = {'Cola'}))\n",
    "print(id)\n",
    "print(id2)"
   ]
  },
  {
   "cell_type": "code",
   "execution_count": 39,
   "id": "3b2633f5",
   "metadata": {},
   "outputs": [
    {
     "name": "stdout",
     "output_type": "stream",
     "text": [
      "      support                              itemsets\n",
      "13   0.066912                             (Aspirin)\n",
      "208  0.034559                  (Aspirin, 2pct_Milk)\n",
      "249  0.027941   (Aspirin, 98pct_Fat_Free_Hamburger)\n",
      "272  0.027206                       (Aspirin, Cola)\n",
      "273  0.025735              (Aspirin, Domestic_Beer)\n",
      "274  0.038235                       (Aspirin, Eggs)\n",
      "275  0.027206                   (Aspirin, Hot_Dogs)\n",
      "276  0.027206                     (Aspirin, Onions)\n",
      "277  0.027206   (Aspirin, Pepperoni_Pizza_-_Frozen)\n",
      "278  0.025000               (Aspirin, Popcorn_Salt)\n",
      "279  0.036029               (Aspirin, Potato_Chips)\n",
      "280  0.030147                   (Aspirin, Potatoes)\n",
      "281  0.030147               (Sweet_Relish, Aspirin)\n",
      "282  0.028676               (Aspirin, Toilet_Paper)\n",
      "283  0.025000                   (Aspirin, Tomatoes)\n",
      "284  0.030882                 (Aspirin, Toothpaste)\n",
      "285  0.025000                (Aspirin, Wheat_Bread)\n",
      "286  0.041912                (White_Bread, Aspirin)\n",
      "509  0.025735            (Aspirin, 2pct_Milk, Eggs)\n",
      "510  0.025000    (Aspirin, 2pct_Milk, Potato_Chips)\n",
      "511  0.027206     (White_Bread, Aspirin, 2pct_Milk)\n",
      "552  0.025000         (Aspirin, Eggs, Potato_Chips)\n",
      "553  0.029412          (White_Bread, Aspirin, Eggs)\n",
      "554  0.027206  (White_Bread, Aspirin, Potato_Chips)\n",
      "555  0.025000      (White_Bread, Aspirin, Potatoes)\n",
      "556  0.025735    (White_Bread, Aspirin, Toothpaste)\n"
     ]
    }
   ],
   "source": [
    "#affichage des itemsets corresp.\n",
    "print(freq_itemsets.loc[id])\n"
   ]
  },
  {
   "cell_type": "code",
   "execution_count": 41,
   "id": "ac2e7b39",
   "metadata": {},
   "outputs": [
    {
     "data": {
      "text/plain": [
       "(array([ 13, 208, 249, 272, 273, 274, 275, 276, 277, 278, 279, 280, 281,\n",
       "        282, 283, 284, 285, 286, 509, 510, 511, 552, 553, 554, 555, 556],\n",
       "       dtype=int64),)"
      ]
     },
     "execution_count": 41,
     "metadata": {},
     "output_type": "execute_result"
    }
   ],
   "source": [
    "#passer par une fonction lambda si on est pressé\n",
    "np.where(freq_itemsets.itemsets.apply(lambda x,ensemble:ensemble.issubset(x),ensemble={'Aspirin'}))"
   ]
  },
  {
   "cell_type": "code",
   "execution_count": 42,
   "id": "808f097b",
   "metadata": {},
   "outputs": [
    {
     "name": "stdout",
     "output_type": "stream",
     "text": [
      "      support                              itemsets\n",
      "13   0.066912                             (Aspirin)\n",
      "208  0.034559                  (Aspirin, 2pct_Milk)\n",
      "249  0.027941   (Aspirin, 98pct_Fat_Free_Hamburger)\n",
      "272  0.027206                       (Aspirin, Cola)\n",
      "273  0.025735              (Aspirin, Domestic_Beer)\n",
      "274  0.038235                       (Aspirin, Eggs)\n",
      "275  0.027206                   (Aspirin, Hot_Dogs)\n",
      "276  0.027206                     (Aspirin, Onions)\n",
      "277  0.027206   (Aspirin, Pepperoni_Pizza_-_Frozen)\n",
      "278  0.025000               (Aspirin, Popcorn_Salt)\n",
      "279  0.036029               (Aspirin, Potato_Chips)\n",
      "280  0.030147                   (Aspirin, Potatoes)\n",
      "281  0.030147               (Sweet_Relish, Aspirin)\n",
      "282  0.028676               (Aspirin, Toilet_Paper)\n",
      "283  0.025000                   (Aspirin, Tomatoes)\n",
      "284  0.030882                 (Aspirin, Toothpaste)\n",
      "285  0.025000                (Aspirin, Wheat_Bread)\n",
      "286  0.041912                (White_Bread, Aspirin)\n",
      "509  0.025735            (Aspirin, 2pct_Milk, Eggs)\n",
      "510  0.025000    (Aspirin, 2pct_Milk, Potato_Chips)\n",
      "511  0.027206     (White_Bread, Aspirin, 2pct_Milk)\n",
      "552  0.025000         (Aspirin, Eggs, Potato_Chips)\n",
      "553  0.029412          (White_Bread, Aspirin, Eggs)\n",
      "554  0.027206  (White_Bread, Aspirin, Potato_Chips)\n",
      "555  0.025000      (White_Bread, Aspirin, Potatoes)\n",
      "556  0.025735    (White_Bread, Aspirin, Toothpaste)\n"
     ]
    }
   ],
   "source": [
    "#itemsets contenant Aspirin - passer par les méthodes natives de Series\n",
    "print(freq_itemsets[freq_itemsets['itemsets'].ge({'Aspirin'})])"
   ]
  },
  {
   "cell_type": "code",
   "execution_count": 43,
   "id": "9218f6ec",
   "metadata": {},
   "outputs": [
    {
     "name": "stdout",
     "output_type": "stream",
     "text": [
      "      support                       itemsets\n",
      "274  0.038235                (Aspirin, Eggs)\n",
      "509  0.025735     (Aspirin, 2pct_Milk, Eggs)\n",
      "552  0.025000  (Aspirin, Eggs, Potato_Chips)\n",
      "553  0.029412   (White_Bread, Aspirin, Eggs)\n"
     ]
    }
   ],
   "source": [
    "#itemsets contenant Aspirin et Eggs\n",
    "print(freq_itemsets[freq_itemsets['itemsets'].ge({'Aspirin','Eggs'})])\n"
   ]
  },
  {
   "cell_type": "markdown",
   "id": "92529caf",
   "metadata": {},
   "source": [
    "## Extraction (déduction) des règles d’association"
   ]
  },
  {
   "cell_type": "code",
   "execution_count": 44,
   "id": "d3c4f2ac",
   "metadata": {},
   "outputs": [],
   "source": [
    "#fonction de calcul des règles\n",
    "from mlxtend.frequent_patterns import association_rules\n",
    "#génération des règles à partir des itemsets fréquents\n",
    "regles = association_rules(freq_itemsets,metric=\"confidence\",min_threshold=0.75)"
   ]
  },
  {
   "cell_type": "code",
   "execution_count": 45,
   "id": "17cf2cd4",
   "metadata": {},
   "outputs": [
    {
     "name": "stdout",
     "output_type": "stream",
     "text": [
      "<class 'pandas.core.frame.DataFrame'>\n"
     ]
    }
   ],
   "source": [
    "#type de l'objet renvoyé\n",
    "print(type(regles))"
   ]
  },
  {
   "cell_type": "code",
   "execution_count": 46,
   "id": "927e51c9",
   "metadata": {},
   "outputs": [
    {
     "data": {
      "text/plain": [
       "(50, 9)"
      ]
     },
     "execution_count": 46,
     "metadata": {},
     "output_type": "execute_result"
    }
   ],
   "source": [
    "regles.shape"
   ]
  },
  {
   "cell_type": "code",
   "execution_count": 47,
   "id": "360f17bf",
   "metadata": {},
   "outputs": [
    {
     "data": {
      "text/html": [
       "<div>\n",
       "<style scoped>\n",
       "    .dataframe tbody tr th:only-of-type {\n",
       "        vertical-align: middle;\n",
       "    }\n",
       "\n",
       "    .dataframe tbody tr th {\n",
       "        vertical-align: top;\n",
       "    }\n",
       "\n",
       "    .dataframe thead th {\n",
       "        text-align: right;\n",
       "    }\n",
       "</style>\n",
       "<table border=\"1\" class=\"dataframe\">\n",
       "  <thead>\n",
       "    <tr style=\"text-align: right;\">\n",
       "      <th></th>\n",
       "      <th>antecedents</th>\n",
       "      <th>consequents</th>\n",
       "      <th>antecedent support</th>\n",
       "      <th>consequent support</th>\n",
       "      <th>support</th>\n",
       "      <th>confidence</th>\n",
       "      <th>lift</th>\n",
       "      <th>leverage</th>\n",
       "      <th>conviction</th>\n",
       "    </tr>\n",
       "  </thead>\n",
       "  <tbody>\n",
       "    <tr>\n",
       "      <th>0</th>\n",
       "      <td>(Aspirin, 2pct_Milk)</td>\n",
       "      <td>(White_Bread)</td>\n",
       "      <td>0.034559</td>\n",
       "      <td>0.119118</td>\n",
       "      <td>0.027206</td>\n",
       "      <td>0.787234</td>\n",
       "      <td>6.608878</td>\n",
       "      <td>0.023089</td>\n",
       "      <td>4.140147</td>\n",
       "    </tr>\n",
       "    <tr>\n",
       "      <th>1</th>\n",
       "      <td>(White_Bread, Bananas)</td>\n",
       "      <td>(2pct_Milk)</td>\n",
       "      <td>0.032353</td>\n",
       "      <td>0.109559</td>\n",
       "      <td>0.025735</td>\n",
       "      <td>0.795455</td>\n",
       "      <td>7.260525</td>\n",
       "      <td>0.022191</td>\n",
       "      <td>4.353268</td>\n",
       "    </tr>\n",
       "    <tr>\n",
       "      <th>2</th>\n",
       "      <td>(Bananas, 2pct_Milk)</td>\n",
       "      <td>(White_Bread)</td>\n",
       "      <td>0.031618</td>\n",
       "      <td>0.119118</td>\n",
       "      <td>0.025735</td>\n",
       "      <td>0.813953</td>\n",
       "      <td>6.833190</td>\n",
       "      <td>0.021969</td>\n",
       "      <td>4.734743</td>\n",
       "    </tr>\n",
       "    <tr>\n",
       "      <th>3</th>\n",
       "      <td>(Wheat_Bread, Cola)</td>\n",
       "      <td>(2pct_Milk)</td>\n",
       "      <td>0.032353</td>\n",
       "      <td>0.109559</td>\n",
       "      <td>0.025735</td>\n",
       "      <td>0.795455</td>\n",
       "      <td>7.260525</td>\n",
       "      <td>0.022191</td>\n",
       "      <td>4.353268</td>\n",
       "    </tr>\n",
       "    <tr>\n",
       "      <th>4</th>\n",
       "      <td>(2pct_Milk, Popcorn_Salt)</td>\n",
       "      <td>(Eggs)</td>\n",
       "      <td>0.033088</td>\n",
       "      <td>0.122794</td>\n",
       "      <td>0.027206</td>\n",
       "      <td>0.822222</td>\n",
       "      <td>6.695941</td>\n",
       "      <td>0.023143</td>\n",
       "      <td>4.934283</td>\n",
       "    </tr>\n",
       "  </tbody>\n",
       "</table>\n",
       "</div>"
      ],
      "text/plain": [
       "                 antecedents    consequents  antecedent support  \\\n",
       "0       (Aspirin, 2pct_Milk)  (White_Bread)            0.034559   \n",
       "1     (White_Bread, Bananas)    (2pct_Milk)            0.032353   \n",
       "2       (Bananas, 2pct_Milk)  (White_Bread)            0.031618   \n",
       "3        (Wheat_Bread, Cola)    (2pct_Milk)            0.032353   \n",
       "4  (2pct_Milk, Popcorn_Salt)         (Eggs)            0.033088   \n",
       "\n",
       "   consequent support   support  confidence      lift  leverage  conviction  \n",
       "0            0.119118  0.027206    0.787234  6.608878  0.023089    4.140147  \n",
       "1            0.109559  0.025735    0.795455  7.260525  0.022191    4.353268  \n",
       "2            0.119118  0.025735    0.813953  6.833190  0.021969    4.734743  \n",
       "3            0.109559  0.025735    0.795455  7.260525  0.022191    4.353268  \n",
       "4            0.122794  0.027206    0.822222  6.695941  0.023143    4.934283  "
      ]
     },
     "execution_count": 47,
     "metadata": {},
     "output_type": "execute_result"
    }
   ],
   "source": [
    "regles.head()"
   ]
  },
  {
   "cell_type": "code",
   "execution_count": 49,
   "id": "7ba68d88",
   "metadata": {},
   "outputs": [
    {
     "name": "stdout",
     "output_type": "stream",
     "text": [
      "(50, 3)\n",
      "                 antecedents    consequents   lift\n",
      "0       (Aspirin, 2pct_Milk)  (White_Bread)  6.609\n",
      "1     (White_Bread, Bananas)    (2pct_Milk)  7.261\n",
      "2       (Bananas, 2pct_Milk)  (White_Bread)  6.833\n",
      "3        (Wheat_Bread, Cola)    (2pct_Milk)  7.261\n",
      "4  (2pct_Milk, Popcorn_Salt)         (Eggs)  6.696\n"
     ]
    }
   ],
   "source": [
    "#règles en restreignant l'affichage à qqs colonnes\n",
    "myRegles = regles.loc[:,['antecedents','consequents','lift']]\n",
    "print(myRegles.shape)\n",
    "#pour afficher toutes les colonnes\n",
    "pd.set_option('display.max_columns',5)\n",
    "pd.set_option('precision',3)\n",
    "#affichage des 5 premières règles\n",
    "print(myRegles[:5])"
   ]
  },
  {
   "cell_type": "markdown",
   "id": "03ebf8f3",
   "metadata": {},
   "source": [
    "## Filtrage des règles"
   ]
  },
  {
   "cell_type": "code",
   "execution_count": 50,
   "id": "6d3638f9",
   "metadata": {},
   "outputs": [
    {
     "name": "stdout",
     "output_type": "stream",
     "text": [
      "                                antecedents                 consequents   lift\n",
      "46   (White_Bread, 2pct_Milk, Potato_Chips)                (Toothpaste)  9.514\n",
      "29             (Sweet_Relish, Hot_Dog_Buns)                  (Hot_Dogs)  9.031\n",
      "16            (White_Bread, Hamburger_Buns)  (98pct_Fat_Free_Hamburger)  8.202\n",
      "47     (White_Bread, 2pct_Milk, Toothpaste)              (Potato_Chips)  7.726\n",
      "8                     (Wheat_Bread, Onions)                 (2pct_Milk)  7.574\n",
      "48  (White_Bread, Potato_Chips, Toothpaste)                 (2pct_Milk)  7.569\n",
      "17  (Wheat_Bread, 98pct_Fat_Free_Hamburger)               (White_Bread)  7.556\n",
      "13                (Wheat_Bread, Toothpaste)                 (2pct_Milk)  7.380\n",
      "37               (Toilet_Paper, Toothpaste)               (White_Bread)  7.346\n",
      "49    (Toothpaste, 2pct_Milk, Potato_Chips)               (White_Bread)  7.319\n"
     ]
    }
   ],
   "source": [
    "#trier les règles dans l'ordre du lift décroissants - 10 meilleurs règles\n",
    "print(myRegles.sort_values(by='lift',ascending=False)[:10])\n"
   ]
  },
  {
   "cell_type": "code",
   "execution_count": 51,
   "id": "05109d38",
   "metadata": {},
   "outputs": [
    {
     "name": "stdout",
     "output_type": "stream",
     "text": [
      "                antecedents    consequents   lift\n",
      "0      (Aspirin, 2pct_Milk)  (White_Bread)  6.609\n",
      "18          (Aspirin, Eggs)  (White_Bread)  6.458\n",
      "19  (Aspirin, Potato_Chips)  (White_Bread)  6.339\n",
      "20      (Aspirin, Potatoes)  (White_Bread)  6.962\n",
      "21    (Aspirin, Toothpaste)  (White_Bread)  6.996\n"
     ]
    }
   ],
   "source": [
    "#filtrer les règles contenant 'Aspirin' dans leur antécédent\n",
    "print(myRegles[myRegles['antecedents'].ge({'Aspirin'})])\n"
   ]
  },
  {
   "cell_type": "code",
   "execution_count": 52,
   "id": "dca1c63e",
   "metadata": {},
   "outputs": [
    {
     "name": "stdout",
     "output_type": "stream",
     "text": [
      "                                antecedents  consequents   lift\n",
      "1                    (White_Bread, Bananas)  (2pct_Milk)  7.261\n",
      "3                       (Wheat_Bread, Cola)  (2pct_Milk)  7.261\n",
      "7                       (Eggs, Wheat_Bread)  (2pct_Milk)  6.970\n",
      "8                     (Wheat_Bread, Onions)  (2pct_Milk)  7.574\n",
      "9                (Potato_Chips, Toothpaste)  (2pct_Milk)  6.980\n",
      "10                  (Potatoes, Wheat_Bread)  (2pct_Milk)  7.053\n",
      "13                (Wheat_Bread, Toothpaste)  (2pct_Milk)  7.380\n",
      "41        (White_Bread, Eggs, Potato_Chips)  (2pct_Milk)  7.143\n",
      "44          (White_Bread, Eggs, Toothpaste)  (2pct_Milk)  7.261\n",
      "48  (White_Bread, Potato_Chips, Toothpaste)  (2pct_Milk)  7.569\n"
     ]
    }
   ],
   "source": [
    "#filtrer les règles menant au conséquent {‘2pct_milk’}\n",
    "print(myRegles[myRegles['consequents'].eq({'2pct_Milk'})])"
   ]
  },
  {
   "cell_type": "code",
   "execution_count": null,
   "id": "954e1e54",
   "metadata": {},
   "outputs": [],
   "source": []
  }
 ],
 "metadata": {
  "kernelspec": {
   "display_name": "Python 3",
   "language": "python",
   "name": "python3"
  },
  "language_info": {
   "codemirror_mode": {
    "name": "ipython",
    "version": 3
   },
   "file_extension": ".py",
   "mimetype": "text/x-python",
   "name": "python",
   "nbconvert_exporter": "python",
   "pygments_lexer": "ipython3",
   "version": "3.8.8"
  }
 },
 "nbformat": 4,
 "nbformat_minor": 5
}
